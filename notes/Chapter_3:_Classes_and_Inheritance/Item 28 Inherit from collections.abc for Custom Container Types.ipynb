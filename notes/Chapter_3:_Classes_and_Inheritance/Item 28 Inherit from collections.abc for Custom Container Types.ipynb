{
 "cells": [
  {
   "cell_type": "markdown",
   "metadata": {},
   "source": [
    "# Item 28 Inherit from collections.abc for Custom Container Types"
   ]
  },
  {
   "cell_type": "markdown",
   "metadata": {},
   "source": [
    "If you want to build your own container type which is similiar to common types like Sequences, use predefined abstract base classes from collections.abc. They do not only remind you if you forget to implement something from that class but also provide minimal functionality."
   ]
  },
  {
   "cell_type": "markdown",
   "metadata": {},
   "source": [
    "## Things to remember\n",
    "* Inherit directly from Python's container types (like list or dict) for simple use cases\n",
    "* Beware of large number of methods to require to implement custom container classes\n",
    "* Have your custom container types inherit from the interfaces defined in colelctions.abc to ensure that your classes match the required interfaces and behaviors."
   ]
  },
  {
   "cell_type": "code",
   "execution_count": null,
   "metadata": {},
   "outputs": [],
   "source": []
  }
 ],
 "metadata": {
  "kernelspec": {
   "display_name": "Python 3",
   "language": "python",
   "name": "python3"
  },
  "language_info": {
   "codemirror_mode": {
    "name": "ipython",
    "version": 3
   },
   "file_extension": ".py",
   "mimetype": "text/x-python",
   "name": "python",
   "nbconvert_exporter": "python",
   "pygments_lexer": "ipython3",
   "version": "3.6.7"
  }
 },
 "nbformat": 4,
 "nbformat_minor": 2
}

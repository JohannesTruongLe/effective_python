{
 "cells": [
  {
   "cell_type": "markdown",
   "metadata": {},
   "source": [
    "# Item 25 Initialize Parent Classes with Super"
   ]
  },
  {
   "cell_type": "markdown",
   "metadata": {},
   "source": [
    "There are two ways"
   ]
  },
  {
   "cell_type": "code",
   "execution_count": 27,
   "metadata": {},
   "outputs": [],
   "source": [
    "class BaseClass:\n",
    "    def __init__(self):\n",
    "        print(\"BaseClass init\")\n",
    "\n",
    "class First(BaseClass):\n",
    "    def __init__(self):\n",
    "        super().__init__()\n",
    "        print(\"First init\")\n",
    "\n",
    "class Second(BaseClass):\n",
    "    def __init__(self):\n",
    "        BaseClass.__init__(self)\n",
    "        print(\"Second init\")\n"
   ]
  },
  {
   "cell_type": "code",
   "execution_count": 12,
   "metadata": {},
   "outputs": [
    {
     "name": "stdout",
     "output_type": "stream",
     "text": [
      "BaseClass init\n",
      "First init\n"
     ]
    }
   ],
   "source": [
    "a = First()"
   ]
  },
  {
   "cell_type": "code",
   "execution_count": 13,
   "metadata": {},
   "outputs": [
    {
     "name": "stdout",
     "output_type": "stream",
     "text": [
      "BaseClass init\n",
      "Second init\n"
     ]
    }
   ],
   "source": [
    "b = Second()"
   ]
  },
  {
   "cell_type": "markdown",
   "metadata": {},
   "source": [
    "There are some cons for Second's init:\n",
    "* If your class has inheritance for multiple classes, calling the super class init directly might lead to unpredictable behavior"
   ]
  },
  {
   "cell_type": "code",
   "execution_count": 32,
   "metadata": {},
   "outputs": [
    {
     "name": "stdout",
     "output_type": "stream",
     "text": [
      "Start init.\n",
      "BaseClass init\n",
      "Second init\n",
      "First init\n",
      "======\n",
      "BaseClass init\n",
      "Second init\n",
      "Third init\n"
     ]
    }
   ],
   "source": [
    "class Third(First, Second):\n",
    "    \n",
    "    def __init__(self):\n",
    "        print(\"Start init.\")\n",
    "        First.__init__(self)\n",
    "        print(\"======\")\n",
    "        Second.__init__(self)\n",
    "        print(\"Third init\")\n",
    "\n",
    "c = Third()"
   ]
  },
  {
   "cell_type": "code",
   "execution_count": 37,
   "metadata": {},
   "outputs": [
    {
     "name": "stdout",
     "output_type": "stream",
     "text": [
      "Start init.\n",
      "BaseClass init\n",
      "First init\n",
      "======\n",
      "BaseClass init\n",
      "First init\n",
      "Second init\n",
      "Third init\n"
     ]
    }
   ],
   "source": [
    "# Only changing inheritance order\n",
    "class Forth(Second, First):\n",
    "    \n",
    "    def __init__(self):\n",
    "        print(\"Start init.\")\n",
    "        First.__init__(self)\n",
    "        print(\"======\")\n",
    "        Second.__init__(self)\n",
    "        print(\"Third init\")\n",
    "\n",
    "c = Forth()"
   ]
  },
  {
   "cell_type": "markdown",
   "metadata": {},
   "source": [
    "* Even weirder stuff happens with diamond inheritances, which happens when two subclasses inherit from two seperate classes which have the same parent, causing the init of the parent to be called multiple times.\n",
    "\n",
    "Exactly for this reason, super built-in was introduced back in python 2.2, which forces the inits to be run in the Mehthod Resolution Order (MRO, depth-first, left-to-right). Also common superclasses in diamond hierachies are only run once."
   ]
  },
  {
   "cell_type": "markdown",
   "metadata": {},
   "source": [
    "Some things shall still be noted down:\n",
    "* In python 2, you have to parse multiple arguments to super (The class you are in itself, self and all arguments)\n",
    "* In python 3, only input argumetns are needed"
   ]
  },
  {
   "cell_type": "markdown",
   "metadata": {},
   "source": [
    "## Things to remember\n",
    "* Python standard method resolution order (MRO) solves the problems of superclass initialization order and diamon inheritance\n",
    "* Always use super()."
   ]
  },
  {
   "cell_type": "code",
   "execution_count": 47,
   "metadata": {},
   "outputs": [],
   "source": [
    "# Example of only using super()\n",
    "\n",
    "class BaseClass:\n",
    "    def __init__(self):\n",
    "        print(\"BaseClass init\")\n",
    "\n",
    "class First(BaseClass):\n",
    "    def __init__(self):\n",
    "        super().__init__()\n",
    "        print(\"First init\")\n",
    "\n",
    "class Second(BaseClass):\n",
    "    def __init__(self):\n",
    "        super().__init__()\n",
    "        print(\"Second init\")"
   ]
  },
  {
   "cell_type": "code",
   "execution_count": 48,
   "metadata": {},
   "outputs": [
    {
     "name": "stdout",
     "output_type": "stream",
     "text": [
      "BaseClass init\n",
      "First init\n"
     ]
    }
   ],
   "source": [
    "a = First()"
   ]
  },
  {
   "cell_type": "code",
   "execution_count": 49,
   "metadata": {},
   "outputs": [
    {
     "name": "stdout",
     "output_type": "stream",
     "text": [
      "BaseClass init\n",
      "Second init\n"
     ]
    }
   ],
   "source": [
    "b = Second()"
   ]
  },
  {
   "cell_type": "code",
   "execution_count": 51,
   "metadata": {},
   "outputs": [
    {
     "name": "stdout",
     "output_type": "stream",
     "text": [
      "Start init.\n",
      "BaseClass init\n",
      "Second init\n",
      "First init\n"
     ]
    }
   ],
   "source": [
    "class Third(First, Second):\n",
    "    def __init__(self):\n",
    "        print(\"Start init.\")\n",
    "        super().__init__()\n",
    "\n",
    "c = Third()"
   ]
  },
  {
   "cell_type": "code",
   "execution_count": null,
   "metadata": {},
   "outputs": [],
   "source": []
  }
 ],
 "metadata": {
  "kernelspec": {
   "display_name": "Python 3",
   "language": "python",
   "name": "python3"
  },
  "language_info": {
   "codemirror_mode": {
    "name": "ipython",
    "version": 3
   },
   "file_extension": ".py",
   "mimetype": "text/x-python",
   "name": "python",
   "nbconvert_exporter": "python",
   "pygments_lexer": "ipython3",
   "version": "3.6.4"
  }
 },
 "nbformat": 4,
 "nbformat_minor": 2
}

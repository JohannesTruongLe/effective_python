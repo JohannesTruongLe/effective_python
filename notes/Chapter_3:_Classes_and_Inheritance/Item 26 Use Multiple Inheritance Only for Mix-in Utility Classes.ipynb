{
 "cells": [
  {
   "cell_type": "markdown",
   "metadata": {},
   "source": [
    "# Item 26 Use Multiple Inheritance Only for Mix-in Utility Classes"
   ]
  },
  {
   "cell_type": "markdown",
   "metadata": {},
   "source": [
    "Generaly speaking, you should avoid multiple inheritance altogether. But if you want to use it, you should use mix-in instead.\n",
    "A mix-in is a small class that only defines a set of additional methods that a class should provide. They do not define their own instane attributse nor require their init to be called.  \n",
    "To sum it up. Mix-in classes are classes which holds nothing but the desired features (not even inits or instance variables)."
   ]
  },
  {
   "cell_type": "code",
   "execution_count": 10,
   "metadata": {},
   "outputs": [
    {
     "name": "stdout",
     "output_type": "stream",
     "text": [
      "First: 1 2\n",
      "Second: 2 3\n"
     ]
    }
   ],
   "source": [
    "class DictMixIn:\n",
    "    @classmethod\n",
    "    def from_dict(cls, dict):\n",
    "        cls(**dict)\n",
    "        \n",
    "class Container(DictMixIn):\n",
    "    def __init__(self, a, b):\n",
    "        First.from_dict(a)\n",
    "        Second.from_dict(b)\n",
    "\n",
    "class First(DictMixIn):\n",
    "    def __init__(self, b, c):\n",
    "        print(\"First:\", b, c)\n",
    "\n",
    "class Second(DictMixIn):\n",
    "    def __init__(self, b, c):\n",
    "        print(\"Second:\", b, c)\n",
    "        \n",
    "a = {'a': {'b': 1, 'c': 2},\n",
    "     'b': {'b': 2, 'c': 3}}\n",
    "Container.from_dict(a)"
   ]
  },
  {
   "cell_type": "markdown",
   "metadata": {},
   "source": [
    "## Things to remember\n",
    "* Avoid using multiple inheritance if mix-in classes can achieve the same outcome\n",
    "* Use pluggable behvarios at the instance level to provide per-class customization\n",
    "* Compose mix-ins to create complex functionality from simple behaviors."
   ]
  }
 ],
 "metadata": {
  "kernelspec": {
   "display_name": "Python 3",
   "language": "python",
   "name": "python3"
  },
  "language_info": {
   "codemirror_mode": {
    "name": "ipython",
    "version": 3
   },
   "file_extension": ".py",
   "mimetype": "text/x-python",
   "name": "python",
   "nbconvert_exporter": "python",
   "pygments_lexer": "ipython3",
   "version": "3.6.7"
  }
 },
 "nbformat": 4,
 "nbformat_minor": 2
}

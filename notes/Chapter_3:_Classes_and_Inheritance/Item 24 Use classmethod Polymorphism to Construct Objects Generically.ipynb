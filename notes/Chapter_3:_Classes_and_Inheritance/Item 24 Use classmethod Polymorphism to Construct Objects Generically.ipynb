{
 "cells": [
  {
   "cell_type": "markdown",
   "metadata": {},
   "source": [
    "# Item 24 Use classmethod Polymorphism to Construct Objects Generically"
   ]
  },
  {
   "cell_type": "markdown",
   "metadata": {},
   "source": [
    "Polymorphism means that multiple classes in a hierarchy can implement their own unique version of a method. Hence, same interfaces can be fulfilled while holding indiviual functionality. E.g. You have a archer. His basic attack is different than one of a swordsman. But both still might fulfill the same interface to the code."
   ]
  },
  {
   "cell_type": "markdown",
   "metadata": {},
   "source": [
    "## Things to remember\n",
    "* Python only support single constructor per class, the init method\n",
    "* Classmethod can be defined to define alternative constructors for your class\n",
    "* Use Classmethod polymorphism to provide generic ways to build and connct concrete subclasse"
   ]
  },
  {
   "cell_type": "code",
   "execution_count": null,
   "metadata": {},
   "outputs": [],
   "source": []
  }
 ],
 "metadata": {
  "kernelspec": {
   "display_name": "Python 3",
   "language": "python",
   "name": "python3"
  },
  "language_info": {
   "codemirror_mode": {
    "name": "ipython",
    "version": 3
   },
   "file_extension": ".py",
   "mimetype": "text/x-python",
   "name": "python",
   "nbconvert_exporter": "python",
   "pygments_lexer": "ipython3",
   "version": "3.6.4"
  }
 },
 "nbformat": 4,
 "nbformat_minor": 2
}

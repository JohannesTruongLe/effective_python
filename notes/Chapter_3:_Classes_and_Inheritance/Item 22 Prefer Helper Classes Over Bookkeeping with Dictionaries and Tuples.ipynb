{
 "cells": [
  {
   "cell_type": "markdown",
   "metadata": {},
   "source": [
    "# Item 22 Prefer Helper Classes Over Bookkeeping with Dictionaries and Tuples"
   ]
  },
  {
   "cell_type": "markdown",
   "metadata": {},
   "source": [
    "Summary:\n",
    "* If you find out that start nesting dicts into dicts into dicts ... just stop that and start with hierachical class structures.\n",
    "* Another approach would be to use namedtuple instead.\n",
    "    * Named attributes\n",
    "    * However: No default values, still accessible through numerical indexing (might lead to silent bugs)"
   ]
  },
  {
   "cell_type": "markdown",
   "metadata": {},
   "source": [
    "## Things to remember\n",
    "* Start using classes if you start nesting dicts over dicts over tuples over dicts over tuples (maybe start after the 2nd nesting)\n",
    "* namedTuple are a lightweight, immuatbale data container. You can use them before switching to flexibility of full classes\n",
    "* Helper functions can help bookkeeping classes"
   ]
  },
  {
   "cell_type": "code",
   "execution_count": null,
   "metadata": {},
   "outputs": [],
   "source": []
  }
 ],
 "metadata": {
  "kernelspec": {
   "display_name": "Python 3",
   "language": "python",
   "name": "python3"
  },
  "language_info": {
   "codemirror_mode": {
    "name": "ipython",
    "version": 3
   },
   "file_extension": ".py",
   "mimetype": "text/x-python",
   "name": "python",
   "nbconvert_exporter": "python",
   "pygments_lexer": "ipython3",
   "version": "3.6.4"
  }
 },
 "nbformat": 4,
 "nbformat_minor": 2
}

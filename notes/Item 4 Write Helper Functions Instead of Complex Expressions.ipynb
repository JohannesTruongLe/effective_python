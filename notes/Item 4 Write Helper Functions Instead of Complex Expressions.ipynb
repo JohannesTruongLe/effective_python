{
 "cells": [
  {
   "cell_type": "markdown",
   "metadata": {},
   "source": [
    "# Item 4: Write Helper Functions Instead of Complex Expressions"
   ]
  },
  {
   "cell_type": "markdown",
   "metadata": {},
   "source": [
    "In short:\n",
    "* Try to avoid single line expressions if it compresses to much complexity\n",
    "    * The reason is the decreased readability which leads to a flat learning curve reading into your code and harder debugging \n",
    "* Write helper functions instead"
   ]
  },
  {
   "cell_type": "code",
   "execution_count": 5,
   "metadata": {},
   "outputs": [
    {
     "name": "stdout",
     "output_type": "stream",
     "text": [
      "5\n",
      "5\n",
      "5\n"
     ]
    }
   ],
   "source": [
    "# Example\n",
    "\n",
    "\n",
    "my_values = {'red': ['5'], 'green': [''], 'blue': ['0']}\n",
    "\n",
    "# Bad\n",
    "red = int(my_values.get('red', [''])[0] or 0)\n",
    "print(red)\n",
    "\n",
    "# Better, still bad tho\n",
    "red = int(my_values.get('red', [''])[0] or 0)\n",
    "print(red)\n",
    "\n",
    "# Good!\n",
    "def get_first_int(values, key, default=0): \n",
    "    found = values.get(key, [''])\n",
    "    if found[0]:\n",
    "        found = int(found[0]) \n",
    "    else:\n",
    "        found = default\n",
    "    return found\n",
    "\n",
    "red = get_first_int(my_values, 'red')\n",
    "print(red)"
   ]
  },
  {
   "cell_type": "markdown",
   "metadata": {},
   "source": [
    "## Things to Remember\n",
    "* Python’s syntax makes it all too easy to write single-line expressions that are overly complicated and difficult to read.\n",
    "* Move complex expressions into helper functions, especially if you need to use the same logic repeatedly.\n",
    "* The if/else expression provides a more readable alternative to using Boolean operators like or and and in expressions."
   ]
  },
  {
   "cell_type": "code",
   "execution_count": null,
   "metadata": {},
   "outputs": [],
   "source": []
  }
 ],
 "metadata": {
  "kernelspec": {
   "display_name": "Python 3",
   "language": "python",
   "name": "python3"
  },
  "language_info": {
   "codemirror_mode": {
    "name": "ipython",
    "version": 3
   },
   "file_extension": ".py",
   "mimetype": "text/x-python",
   "name": "python",
   "nbconvert_exporter": "python",
   "pygments_lexer": "ipython3",
   "version": "3.6.4"
  }
 },
 "nbformat": 4,
 "nbformat_minor": 2
}

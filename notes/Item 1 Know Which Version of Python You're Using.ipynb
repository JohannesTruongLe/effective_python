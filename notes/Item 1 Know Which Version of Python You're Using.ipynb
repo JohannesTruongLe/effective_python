{
 "cells": [
  {
   "cell_type": "markdown",
   "metadata": {},
   "source": [
    "# Item 1: Know Which Version of Python You're Using"
   ]
  },
  {
   "cell_type": "markdown",
   "metadata": {},
   "source": [
    "## To check python version"
   ]
  },
  {
   "cell_type": "markdown",
   "metadata": {},
   "source": [
    "For python 2  \n",
    "$ python -version\n",
    "\n",
    "For python 3   \n",
    "$ python 3 -version"
   ]
  },
  {
   "cell_type": "markdown",
   "metadata": {},
   "source": [
    "## To check at runtime"
   ]
  },
  {
   "cell_type": "code",
   "execution_count": 3,
   "metadata": {},
   "outputs": [
    {
     "name": "stdout",
     "output_type": "stream",
     "text": [
      "sys.version_info(major=3, minor=6, micro=4, releaselevel='final', serial=0)\n",
      "=====\n",
      "3.6.4 (default, Jan  6 2018, 11:51:15) \n",
      "[GCC 4.2.1 Compatible Apple LLVM 9.0.0 (clang-900.0.39.2)]\n"
     ]
    }
   ],
   "source": [
    "import sys\n",
    "print(sys.version_info)\n",
    "print('=====')\n",
    "print(sys.version)"
   ]
  },
  {
   "cell_type": "markdown",
   "metadata": {},
   "source": [
    "## Things to Remember\n",
    "* There are two major versions of Python still in active use: Python 2 and Python 3.\n",
    "* There are multiple popular runtimes for Python: CPython, Jython, IronPython, PyPy, etc.\n",
    "* Be sure that the command-line for running Python on your system is the version you expect it to be.\n",
    "* Prefer Python 3 for your next project because that is the primary focus of the Python community."
   ]
  },
  {
   "cell_type": "code",
   "execution_count": null,
   "metadata": {},
   "outputs": [],
   "source": []
  }
 ],
 "metadata": {
  "kernelspec": {
   "display_name": "Python 3",
   "language": "python",
   "name": "python3"
  },
  "language_info": {
   "codemirror_mode": {
    "name": "ipython",
    "version": 3
   },
   "file_extension": ".py",
   "mimetype": "text/x-python",
   "name": "python",
   "nbconvert_exporter": "python",
   "pygments_lexer": "ipython3",
   "version": "3.6.4"
  }
 },
 "nbformat": 4,
 "nbformat_minor": 2
}

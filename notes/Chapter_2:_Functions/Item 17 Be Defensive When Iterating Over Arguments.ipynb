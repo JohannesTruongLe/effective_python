{
 "cells": [
  {
   "cell_type": "markdown",
   "metadata": {},
   "source": [
    "# Item 17: Be Defensive When Iterating Over Arguments"
   ]
  },
  {
   "cell_type": "markdown",
   "metadata": {},
   "source": [
    "Be careful when passing iterator around"
   ]
  },
  {
   "cell_type": "code",
   "execution_count": 2,
   "metadata": {},
   "outputs": [
    {
     "name": "stdout",
     "output_type": "stream",
     "text": [
      "30\n",
      "0\n"
     ]
    }
   ],
   "source": [
    "a = [1 ,2 ,3 ,4]\n",
    "iterator = (b**2 for b in a)\n",
    "\n",
    "print(sum(iterator))\n",
    "print(sum(iterator))"
   ]
  },
  {
   "cell_type": "markdown",
   "metadata": {},
   "source": [
    "Once the iterator is exhausted, it does not return anyting. This happens silenty and can result in bugs, especially if the exhaust happens somewhere deep inside the code.  \n",
    "Some workarounds:\n",
    "* Instead of parsing the iterator, pass the function which returns it"
   ]
  },
  {
   "cell_type": "code",
   "execution_count": 7,
   "metadata": {},
   "outputs": [
    {
     "name": "stdout",
     "output_type": "stream",
     "text": [
      "30\n",
      "30\n"
     ]
    }
   ],
   "source": [
    "# Passing the function that returns the itertator\n",
    "def get_iter(a):\n",
    "    return (b**2 for b in a)\n",
    "print(sum(get_iter(a)))\n",
    "print(sum(get_iter(a)))\n"
   ]
  },
  {
   "cell_type": "code",
   "execution_count": 13,
   "metadata": {},
   "outputs": [
    {
     "name": "stdout",
     "output_type": "stream",
     "text": [
      "\n",
      "hi \n",
      "hi hi \n",
      "hi hi hi \n",
      "hi hi hi hi \n"
     ]
    }
   ],
   "source": [
    "# Defining own iteratble\n",
    "\n",
    "class hi:\n",
    "    \n",
    "    def __init__(self):\n",
    "        pass\n",
    "        \n",
    "    def __iter__(self):\n",
    "        for idx in range(5):\n",
    "            yield \"hi \"*idx\n",
    "\n",
    "hey = hi()\n",
    "\n",
    "for string in hey:\n",
    "    print(string)"
   ]
  },
  {
   "cell_type": "markdown",
   "metadata": {},
   "source": [
    "## Things to remember\n",
    "* Be careful when iterating over iterators\n",
    "* Python's iterator protocol defines how containers and iterators interact with iter and next built-in functions, for loops and related expressions\n",
    "* You can define your own iterable container with \\_\\_iter__ special method"
   ]
  },
  {
   "cell_type": "code",
   "execution_count": null,
   "metadata": {},
   "outputs": [],
   "source": []
  }
 ],
 "metadata": {
  "kernelspec": {
   "display_name": "Python 3",
   "language": "python",
   "name": "python3"
  },
  "language_info": {
   "codemirror_mode": {
    "name": "ipython",
    "version": 3
   },
   "file_extension": ".py",
   "mimetype": "text/x-python",
   "name": "python",
   "nbconvert_exporter": "python",
   "pygments_lexer": "ipython3",
   "version": "3.6.4"
  }
 },
 "nbformat": 4,
 "nbformat_minor": 2
}

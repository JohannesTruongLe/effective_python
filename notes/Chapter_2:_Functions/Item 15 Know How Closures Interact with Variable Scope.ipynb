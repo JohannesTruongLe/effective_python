{
 "cells": [
  {
   "cell_type": "markdown",
   "metadata": {},
   "source": [
    "# Item 15 Know How Closures Interact with Variable Scope"
   ]
  },
  {
   "cell_type": "code",
   "execution_count": 1,
   "metadata": {},
   "outputs": [],
   "source": [
    "def sort_1(values, group):\n",
    "    def helper(x):\n",
    "        if x in group:\n",
    "            return (0, x)\n",
    "        return (1, x)\n",
    "    values.sort(key=helper)"
   ]
  },
  {
   "cell_type": "code",
   "execution_count": 2,
   "metadata": {},
   "outputs": [
    {
     "name": "stdout",
     "output_type": "stream",
     "text": [
      "[2, 3, 1, 5, 8]\n"
     ]
    }
   ],
   "source": [
    "num = [8, 3 , 2, 1, 5]\n",
    "group = [2, 3]\n",
    "\n",
    "sort_1(num, group)\n",
    "print(num)"
   ]
  },
  {
   "cell_type": "code",
   "execution_count": 5,
   "metadata": {},
   "outputs": [
    {
     "name": "stdout",
     "output_type": "stream",
     "text": [
      "[2, 3, 1, 5, 8] False\n"
     ]
    }
   ],
   "source": [
    "def sort_2(values, group):\n",
    "    found = False\n",
    "    def helper(x):\n",
    "        if x in group:\n",
    "            found = True\n",
    "            return (0, x)\n",
    "        return (1, x)\n",
    "    values.sort(key=helper)\n",
    "    return found\n",
    "num = [8, 3 , 2, 1, 5]\n",
    "group = [2, 3]\n",
    "\n",
    "flag = sort_2(num, group)\n",
    "print(num, flag)"
   ]
  },
  {
   "cell_type": "markdown",
   "metadata": {},
   "source": [
    "Why is flag=false? Due to scopes! Current functions scope < enclosing scopes < scope of module < built-in scope. found of sort_2 scope was not affected since it was newly assigned in helper scope."
   ]
  },
  {
   "cell_type": "code",
   "execution_count": 7,
   "metadata": {},
   "outputs": [
    {
     "name": "stdout",
     "output_type": "stream",
     "text": [
      "[2, 3, 1, 5, 8] True\n"
     ]
    }
   ],
   "source": [
    "# This is how to do it\n",
    "def sort_2(values, group):\n",
    "    found = False\n",
    "    def helper(x):\n",
    "        if x in group:\n",
    "            nonlocal found\n",
    "            found = True\n",
    "            return (0, x)\n",
    "        return (1, x)\n",
    "    values.sort(key=helper)\n",
    "    return found\n",
    "num = [8, 3 , 2, 1, 5]\n",
    "group = [2, 3]\n",
    "\n",
    "flag = sort_2(num, group)\n",
    "print(num, flag)"
   ]
  },
  {
   "cell_type": "markdown",
   "metadata": {},
   "source": [
    "Won't traverse upon module scope, tho."
   ]
  },
  {
   "cell_type": "code",
   "execution_count": 9,
   "metadata": {},
   "outputs": [
    {
     "name": "stdout",
     "output_type": "stream",
     "text": [
      "[2, 3, 1, 5, 8] True False\n"
     ]
    }
   ],
   "source": [
    "# global takes you direcrtly to module scope\n",
    "found = False\n",
    "def sort_2(values, group):\n",
    "    found = False\n",
    "    def helper(x):\n",
    "        if x in group:\n",
    "            global found\n",
    "            found = True\n",
    "            return (0, x)\n",
    "        return (1, x)\n",
    "    values.sort(key=helper)\n",
    "    return found\n",
    "num = [8, 3 , 2, 1, 5]\n",
    "group = [2, 3]\n",
    "\n",
    "flag = sort_2(num, group)\n",
    "print(num, found, flag)"
   ]
  },
  {
   "cell_type": "markdown",
   "metadata": {},
   "source": [
    "However, this adds a lot of complexity to the code. Only use it if you have to.\n",
    "For python2, nonlocal is not supported. Write into nonlocal variables by defining them as a list and write into them by indexing."
   ]
  },
  {
   "cell_type": "markdown",
   "metadata": {},
   "source": [
    "## Things to remember\n",
    "* Closure functions can refer to variables from any of the scopes in which they were defined\n",
    "* By default, you cannot write into enclosing scopes\n",
    "* In python3 use, nonlocal or global to do that\n",
    "* In python2 use the workaround\n",
    "* Avoid nonlocal and global if possible"
   ]
  },
  {
   "cell_type": "code",
   "execution_count": null,
   "metadata": {},
   "outputs": [],
   "source": []
  }
 ],
 "metadata": {
  "kernelspec": {
   "display_name": "Python 3",
   "language": "python",
   "name": "python3"
  },
  "language_info": {
   "codemirror_mode": {
    "name": "ipython",
    "version": 3
   },
   "file_extension": ".py",
   "mimetype": "text/x-python",
   "name": "python",
   "nbconvert_exporter": "python",
   "pygments_lexer": "ipython3",
   "version": "3.6.4"
  }
 },
 "nbformat": 4,
 "nbformat_minor": 2
}

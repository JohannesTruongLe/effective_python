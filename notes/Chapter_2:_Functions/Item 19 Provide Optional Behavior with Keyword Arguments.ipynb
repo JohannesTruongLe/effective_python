{
 "cells": [
  {
   "cell_type": "markdown",
   "metadata": {},
   "source": [
    "# Item 19 Provide Optional Behavior with Keyword Arugments\n"
   ]
  },
  {
   "cell_type": "markdown",
   "metadata": {},
   "source": [
    "Python allows passing arguments by position or keyword"
   ]
  },
  {
   "cell_type": "code",
   "execution_count": 2,
   "metadata": {},
   "outputs": [
    {
     "name": "stdout",
     "output_type": "stream",
     "text": [
      "1\n",
      "-1\n",
      "-1\n"
     ]
    }
   ],
   "source": [
    "def minus(a, b):\n",
    "    print(a-b)\n",
    "    \n",
    "minus(2, 1)\n",
    "minus(a=1, b=2)\n",
    "minus(b=2, a=1)"
   ]
  },
  {
   "cell_type": "markdown",
   "metadata": {},
   "source": [
    "* Keyword parameter enhance readability\n",
    "* Keyword parameter can have default values\n",
    "* Keyword parameter support backwards compatiblity when given a default value"
   ]
  },
  {
   "cell_type": "code",
   "execution_count": 4,
   "metadata": {},
   "outputs": [
    {
     "name": "stdout",
     "output_type": "stream",
     "text": [
      "0\n"
     ]
    }
   ],
   "source": [
    "# Example for default values\n",
    "def minus(a, b=2):\n",
    "    print(a-b)\n",
    "    \n",
    "minus(2)"
   ]
  },
  {
   "cell_type": "markdown",
   "metadata": {},
   "source": [
    "## Things to remember\n",
    "* Function arguments can be specified by position or by keyword\n",
    "* Keywords make the purpose of arugments clear, enhancing readability\n",
    "* Keyword arguments with default values support backwards compaibility\n",
    "* Optional keyword arugments should always be passed by keyword instead of position"
   ]
  },
  {
   "cell_type": "code",
   "execution_count": null,
   "metadata": {},
   "outputs": [],
   "source": []
  }
 ],
 "metadata": {
  "kernelspec": {
   "display_name": "Python 3",
   "language": "python",
   "name": "python3"
  },
  "language_info": {
   "codemirror_mode": {
    "name": "ipython",
    "version": 3
   },
   "file_extension": ".py",
   "mimetype": "text/x-python",
   "name": "python",
   "nbconvert_exporter": "python",
   "pygments_lexer": "ipython3",
   "version": "3.6.4"
  }
 },
 "nbformat": 4,
 "nbformat_minor": 2
}

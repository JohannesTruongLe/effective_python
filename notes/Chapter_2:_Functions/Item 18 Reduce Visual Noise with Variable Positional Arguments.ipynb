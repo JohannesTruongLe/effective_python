{
 "cells": [
  {
   "cell_type": "markdown",
   "metadata": {},
   "source": [
    "# Item 18: Reduce Visual Noise with Variable Positional Arguments"
   ]
  },
  {
   "cell_type": "markdown",
   "metadata": {},
   "source": [
    "*args (star args or optinal positional arguments) can make a function call more clear and remove visual noise"
   ]
  },
  {
   "cell_type": "code",
   "execution_count": 5,
   "metadata": {},
   "outputs": [
    {
     "name": "stdout",
     "output_type": "stream",
     "text": [
      "5 (10, 100) <class 'tuple'>\n",
      "5 (10,) <class 'tuple'>\n",
      "5 () <class 'tuple'>\n"
     ]
    }
   ],
   "source": [
    "def test_fun(a, *value):\n",
    "    print(a, value, type(value))\n",
    "    \n",
    "test_fun(5, 10, 100)\n",
    "test_fun(5, 10)\n",
    "test_fun(5)"
   ]
  },
  {
   "cell_type": "markdown",
   "metadata": {},
   "source": [
    "Two issues with positional arguments\n",
    "* Always returns tuple before passed to a function (will exhaust whole iterator)"
   ]
  },
  {
   "cell_type": "code",
   "execution_count": 10,
   "metadata": {},
   "outputs": [
    {
     "name": "stdout",
     "output_type": "stream",
     "text": [
      "5 (25, 25, 25, 25, 25) <class 'tuple'>\n"
     ]
    }
   ],
   "source": [
    "def gen_me():\n",
    "    for i in range(5):\n",
    "        yield 5**2\n",
    "test_fun(5, *gen_me())"
   ]
  },
  {
   "cell_type": "markdown",
   "metadata": {},
   "source": [
    "* Second issue is, that you cannot add new positional arguments to your function without migrating every single caller. Huge issue for maintaining!"
   ]
  },
  {
   "cell_type": "markdown",
   "metadata": {},
   "source": [
    "## Things to remember\n",
    "* Functions can accept a variable number of positional arugments by using *args\n",
    "* You can use items from a sequence as the positional argments with the * operator \n",
    "* Does not really go well with iterators\n",
    "* Makes maintaining and extending the code horrible"
   ]
  },
  {
   "cell_type": "code",
   "execution_count": null,
   "metadata": {},
   "outputs": [],
   "source": []
  }
 ],
 "metadata": {
  "kernelspec": {
   "display_name": "Python 3",
   "language": "python",
   "name": "python3"
  },
  "language_info": {
   "codemirror_mode": {
    "name": "ipython",
    "version": 3
   },
   "file_extension": ".py",
   "mimetype": "text/x-python",
   "name": "python",
   "nbconvert_exporter": "python",
   "pygments_lexer": "ipython3",
   "version": "3.6.4"
  }
 },
 "nbformat": 4,
 "nbformat_minor": 2
}

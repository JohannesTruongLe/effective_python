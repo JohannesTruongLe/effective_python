{
 "cells": [
  {
   "cell_type": "markdown",
   "metadata": {},
   "source": [
    "# Item 20 Use None and Docstrings to Specify Dynamic Default Arguments"
   ]
  },
  {
   "cell_type": "markdown",
   "metadata": {},
   "source": [
    "Sometimes None is needed as an input. If that is the case, specify in the docstring why."
   ]
  },
  {
   "cell_type": "code",
   "execution_count": 4,
   "metadata": {},
   "outputs": [
    {
     "name": "stdout",
     "output_type": "stream",
     "text": [
      "2019-04-09 22:42:15.355098\n",
      "2019-04-09 22:42:15.355098\n",
      "2019-04-09 22:42:15.355098\n"
     ]
    }
   ],
   "source": [
    "import datetime\n",
    "\n",
    "# Bad\n",
    "def log(when=datetime.datetime.now()):\n",
    "    print(when)\n",
    "    \n",
    "log()\n",
    "log()\n",
    "log()"
   ]
  },
  {
   "cell_type": "markdown",
   "metadata": {},
   "source": [
    "Notice that all three calls resulted in the same time. This is due the evaluation of datetime.now() happens then the function is defined."
   ]
  },
  {
   "cell_type": "code",
   "execution_count": 5,
   "metadata": {},
   "outputs": [
    {
     "name": "stdout",
     "output_type": "stream",
     "text": [
      "2019-04-09 22:43:58.509212\n",
      "2019-04-09 22:43:58.509453\n",
      "2019-04-09 22:43:58.509513\n"
     ]
    }
   ],
   "source": [
    "# Good\n",
    "def log(when=None):\n",
    "    \"\"\"Imagine a good docstring here.\"\"\"\n",
    "    when = datetime.datetime.now() if when is None else when\n",
    "    print(when)\n",
    "\n",
    "log()\n",
    "log()\n",
    "log()"
   ]
  },
  {
   "cell_type": "markdown",
   "metadata": {},
   "source": [
    "This is even worse in this case (for the same reason as above)"
   ]
  },
  {
   "cell_type": "code",
   "execution_count": 6,
   "metadata": {},
   "outputs": [
    {
     "name": "stdout",
     "output_type": "stream",
     "text": [
      "{1: 1, 2: 25}\n",
      "{1: 1, 2: 25}\n"
     ]
    }
   ],
   "source": [
    "def bad_code(default={}):\n",
    "    return default\n",
    "\n",
    "bad_1 = bad_code()\n",
    "bad_1[1] = 1\n",
    "bad_2 = bad_code()\n",
    "bad_2[2] = 25\n",
    "print(bad_1)\n",
    "print(bad_2)"
   ]
  },
  {
   "cell_type": "markdown",
   "metadata": {},
   "source": [
    "# Things to remember\n",
    "* Default arguments are only evaluated once during function definition at module load time, especially weird for dynamic objects such as lists or dicts\n",
    "* Use None to tackle this problem and define the default value during runtime."
   ]
  },
  {
   "cell_type": "code",
   "execution_count": null,
   "metadata": {},
   "outputs": [],
   "source": []
  }
 ],
 "metadata": {
  "kernelspec": {
   "display_name": "Python 3",
   "language": "python",
   "name": "python3"
  },
  "language_info": {
   "codemirror_mode": {
    "name": "ipython",
    "version": 3
   },
   "file_extension": ".py",
   "mimetype": "text/x-python",
   "name": "python",
   "nbconvert_exporter": "python",
   "pygments_lexer": "ipython3",
   "version": "3.6.4"
  }
 },
 "nbformat": 4,
 "nbformat_minor": 2
}

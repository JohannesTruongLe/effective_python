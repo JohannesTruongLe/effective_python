{
 "cells": [
  {
   "cell_type": "markdown",
   "metadata": {},
   "source": [
    "# Item 3: Know the Differences Between bytes, str, and unicode"
   ]
  },
  {
   "cell_type": "markdown",
   "metadata": {},
   "source": [
    "In python 3:\n",
    "* Two types to represent sequences of characters: bytes and str.\n",
    "* byte = raw 8 bit values.\n",
    "* str = Unicode characters.\n",
    "\n",
    "In python 2:\n",
    "* str and unicode\n",
    "* str = raw 8 bit values\n",
    "* unicode = unicode characters\n",
    "\n",
    "Lots of ways to represent Unicode characters as binary data (raw 8 bit values).\n",
    "* Str (python3) and Unicode (python2) have no associated binary encoding.\n",
    "* For converting Unicode character to binary data, you must use an encode method.\n",
    "* For converting binary to Unicode, you must decode.\n",
    "\n",
    "When you write program, encoding and decoding should be the furthest boundary of your interface!\n",
    "* Core should use Unicode character types, so you dont have to assume character encodings.\n",
    "* Be strict with the ouput encoding (ideally, UT-8 for some reason?)\n",
    "\n",
    "This split leads to two common situations:\n",
    "* You want to operante on raw 8 bit-values which are encoded in some way\n",
    "* You want to operate on Unicode characters with no specific encoding\n",
    "\n",
    "You'll often need to helper functions for converting back and forth."
   ]
  },
  {
   "cell_type": "markdown",
   "metadata": {},
   "source": [
    "In python 3:"
   ]
  },
  {
   "cell_type": "code",
   "execution_count": 2,
   "metadata": {},
   "outputs": [],
   "source": [
    "def to_str(bytes_or_str):\n",
    "    if isinstance(bytes_or_str, bytes):             \n",
    "        value = bytes_or_str.decode('utf-8')\n",
    "    else:\n",
    "        value = bytes_or_str\n",
    "    return value    # Instance of str\n",
    "\n",
    "def to_bytes(bytes_or_str):\n",
    "    if isinstance(bytes_or_str, str):\n",
    "        value = bytes_or_str.encode('utf-8')\n",
    "    else:\n",
    "        value = bytes_or_str\n",
    "    return value    # Instance of bytes"
   ]
  },
  {
   "cell_type": "markdown",
   "metadata": {},
   "source": [
    "In python 2:"
   ]
  },
  {
   "cell_type": "code",
   "execution_count": 3,
   "metadata": {},
   "outputs": [],
   "source": [
    "def to_unicode(unicode_or_str):\n",
    "    if isinstance(unicode_or_str, str):\n",
    "        value = unicode_or_str.decode('utf-8') \n",
    "    else:\n",
    "        value = unicode_or_str\n",
    "    return value    # Instance of unicode\n",
    "\n",
    "def to_str(unicode_or_str):\n",
    "    if isinstance(unicode_or_str, unicode):         \n",
    "        value = unicode_or_str.encode('utf-8')\n",
    "    else:\n",
    "        value = unicode_or_str \n",
    "    return value    # Instance of str"
   ]
  },
  {
   "cell_type": "markdown",
   "metadata": {},
   "source": [
    "Two big issues:\n",
    "\n",
    "* In python 2, str with only 7-bit ASCII characters seem to be the same type as unicode\n",
    "    * You can combine them with +\n",
    "    * You can compare them\n",
    "    * You use unicode to format strings\n",
    "    * But you should not treat them as the same, if youre expcting characters >7-bit\n",
    "    * In python 3, bytes and str are never equivalent\n",
    "* In python 3, file handles default to UTF-8. In python 2, default to binary encoding.\n",
    "    "
   ]
  },
  {
   "cell_type": "code",
   "execution_count": null,
   "metadata": {},
   "outputs": [],
   "source": []
  }
 ],
 "metadata": {
  "kernelspec": {
   "display_name": "Python 3",
   "language": "python",
   "name": "python3"
  },
  "language_info": {
   "codemirror_mode": {
    "name": "ipython",
    "version": 3
   },
   "file_extension": ".py",
   "mimetype": "text/x-python",
   "name": "python",
   "nbconvert_exporter": "python",
   "pygments_lexer": "ipython3",
   "version": "3.6.4"
  }
 },
 "nbformat": 4,
 "nbformat_minor": 2
}

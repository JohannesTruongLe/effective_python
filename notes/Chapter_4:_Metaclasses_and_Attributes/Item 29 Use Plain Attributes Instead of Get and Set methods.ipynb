{
 "cells": [
  {
   "cell_type": "markdown",
   "metadata": {},
   "source": [
    "# Item 29 Use Plain Attributes Instead of Get and Set methods"
   ]
  },
  {
   "cell_type": "markdown",
   "metadata": {},
   "source": [
    "Using getter and setter is common in other languages but not pythonic. They are quite clumsy for incrementing in place."
   ]
  },
  {
   "cell_type": "code",
   "execution_count": 3,
   "metadata": {},
   "outputs": [
    {
     "name": "stdout",
     "output_type": "stream",
     "text": [
      "0\n",
      "1\n"
     ]
    }
   ],
   "source": [
    "class Test():\n",
    "\n",
    "    def __init__(self):\n",
    "        self.a = 0\n",
    "    \n",
    "    def get_a(self):\n",
    "        return self.a\n",
    "    \n",
    "    def set_a(self, a):\n",
    "        self.a = a\n",
    "\n",
    "a = Test()\n",
    "print(a.get_a())\n",
    "a.set_a(a.get_a()+1)\n",
    "print(a.get_a())"
   ]
  },
  {
   "cell_type": "markdown",
   "metadata": {},
   "source": [
    "Instead you could make them simply public (if there is no post/pre processing needed before parsing the variable)"
   ]
  },
  {
   "cell_type": "code",
   "execution_count": 5,
   "metadata": {},
   "outputs": [
    {
     "name": "stdout",
     "output_type": "stream",
     "text": [
      "0\n",
      "1\n"
     ]
    }
   ],
   "source": [
    "class Test():\n",
    "\n",
    "    def __init__(self):\n",
    "        self.a = 0\n",
    "\n",
    "a = Test()\n",
    "print(a.a)\n",
    "a.a += 1\n",
    "print(a.a)"
   ]
  },
  {
   "cell_type": "markdown",
   "metadata": {},
   "source": [
    "If there is some processing needed before parsing, use decoraters."
   ]
  },
  {
   "cell_type": "code",
   "execution_count": 6,
   "metadata": {},
   "outputs": [
    {
     "name": "stdout",
     "output_type": "stream",
     "text": [
      "0\n",
      "1.0\n"
     ]
    }
   ],
   "source": [
    "class Test():\n",
    "\n",
    "    def __init__(self):\n",
    "        self._a = 0\n",
    "\n",
    "    @property\n",
    "    def a(self):\n",
    "        return self._a\n",
    "    \n",
    "    @a.setter\n",
    "    def a(self, a):\n",
    "        self._a = float(a)\n",
    "\n",
    "        \n",
    "a = Test()\n",
    "print(a.a)\n",
    "a.a += 1\n",
    "print(a.a)"
   ]
  },
  {
   "cell_type": "markdown",
   "metadata": {},
   "source": [
    "## Things to remember\n",
    "* Define new class interfaces using simple public attributes and avoid set and get methods\n",
    "* Use @property to define special bevahior when attribues are accessed on your objects, if necessary\n",
    "* Follow the rule of least surprise to avoid weird side effects in your @property methods\n",
    "* Ensure that @property methods are fast, do slow or complex work using normal methods"
   ]
  },
  {
   "cell_type": "code",
   "execution_count": null,
   "metadata": {},
   "outputs": [],
   "source": []
  }
 ],
 "metadata": {
  "kernelspec": {
   "display_name": "Python 3",
   "language": "python",
   "name": "python3"
  },
  "language_info": {
   "codemirror_mode": {
    "name": "ipython",
    "version": 3
   },
   "file_extension": ".py",
   "mimetype": "text/x-python",
   "name": "python",
   "nbconvert_exporter": "python",
   "pygments_lexer": "ipython3",
   "version": "3.6.7"
  }
 },
 "nbformat": 4,
 "nbformat_minor": 2
}

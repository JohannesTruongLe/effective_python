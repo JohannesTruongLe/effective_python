{
 "cells": [
  {
   "cell_type": "markdown",
   "metadata": {},
   "source": [
    "# Item 2: Follow the PEP8 Style Guide"
   ]
  },
  {
   "cell_type": "markdown",
   "metadata": {},
   "source": [
    "* PEP8 = Python Enhancement Proposal #8\n",
    "* Consistent style for better readability and approachability\n",
    "* Better for collaboration\n",
    "* Makes it easier to change things later on\n",
    "You can find the guideline online: http://www.python.org/dev/peps/pep-0008/"
   ]
  },
  {
   "cell_type": "markdown",
   "metadata": {},
   "source": [
    "## Some examples"
   ]
  },
  {
   "cell_type": "markdown",
   "metadata": {},
   "source": [
    "### Whitespaces\n",
    "* Whitespace instead of indentation\n",
    "* 4 spaces for one indent\n",
    "* Line width < 79 chars\n",
    "* Continuations of long expresssions onto additional line --> ident with 4 extra white spaces\n",
    "* In file, functions and classes seperated by two blank lines\n",
    "* In class, 1 blank line\n",
    "* no spaces around list indexes, function calls or keyword argument assignments\n",
    "* Only one before variable assignement\n",
    "### Naming\n",
    "* functions, variables and attributes in lowercase_underscore\n",
    "* protected instances attributes should be in \\_leading_underscore\n",
    "* private instance attributes should be in \\_\\_double_leading_underscore\n",
    "* Classes and exceptions should be in CapitalizedWord formt\n",
    "* Module-level constants shuold be in ALL_CAPS\n",
    "* Instance methods in classes use self as the name of the first parameter\n",
    "* Class methods should use cls as the name of the frist parameter (which refers to class)\n",
    "### Expression and Statements\n",
    "* Inline negation > negatino of positive expression (Prefer if a is not b over if not a is b)\n",
    "* For checking empty lists, use \"not SOMELIST\", not len(SOMELIST)==0\n",
    "* Vice versa for not emptyness\n",
    "* Avoid single line if, for and while compound statements\n",
    "* Always put import at top of a file\n",
    "* Always absolute paths when importing modules\n",
    "* If you have to do relative imports, use explicit syntax from . import sth\n",
    "* Import should be ordered: std > third party > your own modules. Alphabetically!\n",
    "\n",
    "### Note\n",
    "* Use pylint as a static analyzer for Python code."
   ]
  },
  {
   "cell_type": "markdown",
   "metadata": {},
   "source": [
    "## Things to remember\n",
    "* Always follow the PEP8 style guide when writing Python code.\n",
    "* Sharing a common style with the larger Python community facilitates collaboration with others.\n",
    "* Using a consistent style makes it easier to modify your own code later."
   ]
  }
 ],
 "metadata": {
  "kernelspec": {
   "display_name": "Python 3",
   "language": "python",
   "name": "python3"
  },
  "language_info": {
   "codemirror_mode": {
    "name": "ipython",
    "version": 3
   },
   "file_extension": ".py",
   "mimetype": "text/x-python",
   "name": "python",
   "nbconvert_exporter": "python",
   "pygments_lexer": "ipython3",
   "version": "3.6.4"
  }
 },
 "nbformat": 4,
 "nbformat_minor": 2
}

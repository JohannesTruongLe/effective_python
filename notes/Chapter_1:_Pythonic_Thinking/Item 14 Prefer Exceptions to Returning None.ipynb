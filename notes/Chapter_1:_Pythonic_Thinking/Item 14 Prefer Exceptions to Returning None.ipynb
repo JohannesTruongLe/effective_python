{
 "cells": [
  {
   "cell_type": "markdown",
   "metadata": {},
   "source": [
    "# Item 14 Prefer Exceptions to Returning None"
   ]
  },
  {
   "cell_type": "code",
   "execution_count": 1,
   "metadata": {},
   "outputs": [
    {
     "name": "stdout",
     "output_type": "stream",
     "text": [
      "I am a None!\n",
      "People think I am a None!\n"
     ]
    }
   ],
   "source": [
    "# If someone is doing if's than None can be problematic\n",
    "\n",
    "a = None\n",
    "if not a:\n",
    "    print(\"I am a None!\")\n",
    "\n",
    "a = 0\n",
    "if not a:\n",
    "    print(\"People think I am a None!\")"
   ]
  },
  {
   "cell_type": "markdown",
   "metadata": {},
   "source": [
    "Better way is to not use None at all. But raise a exception and handle that one instead."
   ]
  },
  {
   "cell_type": "code",
   "execution_count": null,
   "metadata": {},
   "outputs": [],
   "source": []
  }
 ],
 "metadata": {
  "kernelspec": {
   "display_name": "Python 3",
   "language": "python",
   "name": "python3"
  },
  "language_info": {
   "codemirror_mode": {
    "name": "ipython",
    "version": 3
   },
   "file_extension": ".py",
   "mimetype": "text/x-python",
   "name": "python",
   "nbconvert_exporter": "python",
   "pygments_lexer": "ipython3",
   "version": "3.6.4"
  }
 },
 "nbformat": 4,
 "nbformat_minor": 2
}

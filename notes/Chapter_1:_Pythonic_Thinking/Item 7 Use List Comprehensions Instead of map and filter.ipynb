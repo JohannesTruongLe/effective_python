{
 "cells": [
  {
   "cell_type": "markdown",
   "metadata": {},
   "source": [
    "# Item 7: Use List Comprehensions Instead of map and filter"
   ]
  },
  {
   "cell_type": "markdown",
   "metadata": {},
   "source": [
    "* Python provides compact syntax for deriving one list from another. These expressions are called list comprehensions\n",
    "* List comprehesnsions are usually better to read than map"
   ]
  },
  {
   "cell_type": "code",
   "execution_count": 3,
   "metadata": {},
   "outputs": [
    {
     "name": "stdout",
     "output_type": "stream",
     "text": [
      "[1, 4, 9, 16, 25, 36, 49, 64, 81, 100]\n",
      "<map object at 0x1032a27b8>\n",
      "[1, 4, 9, 16, 25, 36, 49, 64, 81, 100]\n"
     ]
    }
   ],
   "source": [
    "a = [1, 2, 3, 4, 5, 6, 7, 8, 9, 10] \n",
    "squares = [x**2 for x in a] \n",
    "print(squares)\n",
    "\n",
    "squares = map(lambda x: x ** 2, a)\n",
    "print(squares) # Still a loop needed\n",
    "\n",
    "squares = [s for s in squares]\n",
    "print(squares)"
   ]
  },
  {
   "cell_type": "code",
   "execution_count": 4,
   "metadata": {},
   "outputs": [
    {
     "name": "stdout",
     "output_type": "stream",
     "text": [
      "[4, 16, 36, 64, 100]\n"
     ]
    }
   ],
   "source": [
    "# Especially if you need ifs\n",
    "even_squares = [x**2 for x in a if x % 2 == 0] \n",
    "print(even_squares)\n",
    "\n",
    "alt = map(lambda x: x**2, filter(lambda x: x % 2 == 0, a)) \n"
   ]
  },
  {
   "cell_type": "code",
   "execution_count": 7,
   "metadata": {},
   "outputs": [
    {
     "name": "stdout",
     "output_type": "stream",
     "text": [
      "{'ghost': 1, 'habanero': 2, 'cayenne': 3}\n",
      "{1: 'ghost', 2: 'habanero', 3: 'cayenne'}\n",
      "{8, 5, 7}\n"
     ]
    }
   ],
   "source": [
    "# There are comphrehensions for dicts and sets, too!\n",
    "chile_ranks = {'ghost': 1, 'habanero': 2, 'cayenne': 3} \n",
    "rank_dict = {rank: name for name, rank in chile_ranks.items()} \n",
    "chile_len_set = {len(name) for name in rank_dict.values()} \n",
    "print(chile_ranks)\n",
    "print(rank_dict)\n",
    "print(chile_len_set)"
   ]
  },
  {
   "cell_type": "markdown",
   "metadata": {},
   "source": [
    "## Things to Remember\n",
    "* List comprehensions are clearer than the map and filter built-in functions because they don’t require extra lambda expressions.\n",
    "* List comprehensions allow you to easily skip items from the input list, a behavior map doesn’t support without help from filter.\n",
    "* Dictionaries and sets also support comprehension expressions."
   ]
  },
  {
   "cell_type": "code",
   "execution_count": null,
   "metadata": {},
   "outputs": [],
   "source": []
  }
 ],
 "metadata": {
  "kernelspec": {
   "display_name": "Python 3",
   "language": "python",
   "name": "python3"
  },
  "language_info": {
   "codemirror_mode": {
    "name": "ipython",
    "version": 3
   },
   "file_extension": ".py",
   "mimetype": "text/x-python",
   "name": "python",
   "nbconvert_exporter": "python",
   "pygments_lexer": "ipython3",
   "version": "3.6.4"
  }
 },
 "nbformat": 4,
 "nbformat_minor": 2
}

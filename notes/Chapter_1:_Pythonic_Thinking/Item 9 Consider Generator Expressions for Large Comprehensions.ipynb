{
 "cells": [
  {
   "cell_type": "markdown",
   "metadata": {},
   "source": [
    "# Item 9 Consider Generator Expressions for Large Comprehensions"
   ]
  },
  {
   "cell_type": "markdown",
   "metadata": {},
   "source": [
    "Issue:\n",
    "* It creates a whole new copy which could make your memory full.\n",
    "* If the file, you read in, is huge or even a never-ending network socket this could get problematic.\n",
    "\n",
    "Use generators to solve this issue!\n",
    "* You can build a generator using the same expression but using () instead of []."
   ]
  },
  {
   "cell_type": "code",
   "execution_count": 3,
   "metadata": {},
   "outputs": [
    {
     "name": "stdout",
     "output_type": "stream",
     "text": [
      "1\n",
      "2\n"
     ]
    }
   ],
   "source": [
    "a = [1 ,2 ,3]\n",
    "generator = (b for b in a)\n",
    "print(generator.__next__())\n",
    "print(next(generator))"
   ]
  },
  {
   "cell_type": "markdown",
   "metadata": {},
   "source": [
    "Note: Iterators retuned by generators are stateful, so watch out to use them not more than once. (no idea what this means lol)"
   ]
  },
  {
   "cell_type": "markdown",
   "metadata": {},
   "source": [
    "## Things to remember\n",
    "* List comphrehensions are problematic with huge inputs\n",
    "* Generator expressions avoid memory issues by producing one at a time as an iterator.\n",
    "* Generator expression can be composed by passing the iterator from one generator expression into the for subexpreission of another\n",
    "* Generator expressions exectue very quickly when chained together"
   ]
  },
  {
   "cell_type": "code",
   "execution_count": null,
   "metadata": {},
   "outputs": [],
   "source": []
  }
 ],
 "metadata": {
  "kernelspec": {
   "display_name": "Python 3",
   "language": "python",
   "name": "python3"
  },
  "language_info": {
   "codemirror_mode": {
    "name": "ipython",
    "version": 3
   },
   "file_extension": ".py",
   "mimetype": "text/x-python",
   "name": "python",
   "nbconvert_exporter": "python",
   "pygments_lexer": "ipython3",
   "version": "3.6.4"
  }
 },
 "nbformat": 4,
 "nbformat_minor": 2
}

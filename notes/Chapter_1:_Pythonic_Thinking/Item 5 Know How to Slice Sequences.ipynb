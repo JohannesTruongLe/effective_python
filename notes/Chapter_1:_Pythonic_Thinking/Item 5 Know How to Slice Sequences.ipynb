{
 "cells": [
  {
   "cell_type": "markdown",
   "metadata": {},
   "source": [
    "# Item 5: Know How to Slice Sequences"
   ]
  },
  {
   "cell_type": "markdown",
   "metadata": {},
   "source": [
    "* Slicing lets you access a subset of a sequence’s items with minimal effort.\n",
    "* Slicing can be extended to any Python class that implements the \\_\\_getitem__ and \\_\\_setitem__ special methods (see Item 28: “Inherit from collections.abc for Custom Container Types”).\n",
    "* Slicing copies data"
   ]
  },
  {
   "cell_type": "code",
   "execution_count": 3,
   "metadata": {},
   "outputs": [
    {
     "data": {
      "text/plain": [
       "[4, 5]"
      ]
     },
     "execution_count": 3,
     "metadata": {},
     "output_type": "execute_result"
    }
   ],
   "source": [
    "# Examples\n",
    "a = [0, 1, 2, 3, 4, 5, 6]\n",
    "\n",
    "a[:]     # Copy\n",
    "a[-0:]   # Copy\n",
    "a[:5]    # Beginning to 4th index (end is exclusive)\n",
    "a[:-1]   # Negative idx are offsets from the end\n",
    "a[4:]    # 4th idx to end (start is inclusive)\n",
    "a[-3:]   # -3rd idx to end\n",
    "a[2:5]   # 2nd to 4th"
   ]
  },
  {
   "cell_type": "markdown",
   "metadata": {},
   "source": [
    "Unlike tuple assignments , the length of slice assignments don’t need to be the same. The values before and after the assigned slice will be preserved. The list will grow or shrink to accommodate the new values."
   ]
  },
  {
   "cell_type": "code",
   "execution_count": 8,
   "metadata": {},
   "outputs": [
    {
     "name": "stdout",
     "output_type": "stream",
     "text": [
      "[1, 2, 3, 4, 5, 6, 7]\n",
      "[1, 2, 3, 1, 7]\n"
     ]
    }
   ],
   "source": [
    "# Example\n",
    "a = [1, 2, 3, 4, 5, 6, 7]\n",
    "print(a)\n",
    "a[3:6] = [1]\n",
    "print(a)"
   ]
  },
  {
   "cell_type": "markdown",
   "metadata": {},
   "source": [
    "If you assign a slice with no start or end indexes, you’ll replace its entire contents with a copy of what’s referenced (instead of allocating a new list)."
   ]
  },
  {
   "cell_type": "code",
   "execution_count": 12,
   "metadata": {},
   "outputs": [
    {
     "name": "stdout",
     "output_type": "stream",
     "text": [
      "[1, 2, 3, 4, 5, 6, 7]\n",
      "[5, 6]\n"
     ]
    }
   ],
   "source": [
    "a = [1, 2, 3, 4, 5, 6, 7]\n",
    "b = a\n",
    "print(a)\n",
    "assert a is b\n",
    "a[:] = [5, 6]\n",
    "assert a is b # Still same object\n",
    "print(a)"
   ]
  },
  {
   "cell_type": "markdown",
   "metadata": {},
   "source": [
    "# Things to Remember\n",
    "* Avoid being verbose: Don’t supply 0 for the start index or the length of the sequence for the end index.\n",
    "* Slicing is forgiving of start or end indexes that are out of bounds, making it easy to express slices on the front or back boundaries of a sequence (like a[:20] or a[-20:]).\n",
    "* Assigning to a list slice will replace that range in the original sequence with what’s referenced even if their lengths are different."
   ]
  },
  {
   "cell_type": "code",
   "execution_count": 13,
   "metadata": {},
   "outputs": [
    {
     "name": "stdout",
     "output_type": "stream",
     "text": [
      "[1, 2]\n"
     ]
    }
   ],
   "source": [
    "a = [1 ,2]\n",
    "print(a[:20])"
   ]
  },
  {
   "cell_type": "code",
   "execution_count": null,
   "metadata": {},
   "outputs": [],
   "source": []
  }
 ],
 "metadata": {
  "kernelspec": {
   "display_name": "Python 3",
   "language": "python",
   "name": "python3"
  },
  "language_info": {
   "codemirror_mode": {
    "name": "ipython",
    "version": 3
   },
   "file_extension": ".py",
   "mimetype": "text/x-python",
   "name": "python",
   "nbconvert_exporter": "python",
   "pygments_lexer": "ipython3",
   "version": "3.6.4"
  }
 },
 "nbformat": 4,
 "nbformat_minor": 2
}
